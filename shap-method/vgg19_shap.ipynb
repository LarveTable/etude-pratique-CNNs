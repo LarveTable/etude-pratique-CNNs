{
 "cells": [
  {
   "cell_type": "markdown",
   "id": "63a86634-fe84-40af-9fd3-c2e5020bb28d",
   "metadata": {},
   "source": [
    "# Explication de VGG19 \n",
    "Nous faisons l'explication de l'architecture de réseau de neurones convolutifs (CNN) VGG (Visual Geometry Group) avec des valeurs de SHAP issues d'un Gradient Explainer."
   ]
  },
  {
   "cell_type": "code",
   "execution_count": 2,
   "id": "b2e08a5c-3bc6-4045-92d4-0dedc5a77406",
   "metadata": {},
   "outputs": [],
   "source": [
    "import json \n",
    "import torch\n",
    "import torchvision \n",
    "from torchvision import models\n",
    "import shap "
   ]
  },
  {
   "cell_type": "code",
   "execution_count": 3,
   "id": "4cd4a873-0df7-49df-88aa-782c12068112",
   "metadata": {},
   "outputs": [],
   "source": [
    "mean = [0.485, 0.456, 0.406]\n",
    "std = [0.229, 0.224, 0.225]\n",
    "\n",
    "\n",
    "def normalize(image):\n",
    "    if image.max() > 1:\n",
    "        image /= 255\n",
    "    image = (image - mean) / std\n",
    "    # in addition, roll the axis so that they suit pytorch\n",
    "    return torch.tensor(image.swapaxes(-1, 1).swapaxes(2, 3)).float()"
   ]
  },
  {
   "cell_type": "code",
   "execution_count": 4,
   "id": "5f96110c-fbcb-494f-bffa-4596c258704a",
   "metadata": {},
   "outputs": [
    {
     "name": "stderr",
     "output_type": "stream",
     "text": [
      "The parameter 'pretrained' is deprecated since 0.13 and may be removed in the future, please use 'weights' instead.\n",
      "Arguments other than a weight enum or `None` for 'weights' are deprecated since 0.13 and may be removed in the future. The current behavior is equivalent to passing `weights=VGG19_Weights.IMAGENET1K_V1`. You can also use `weights=VGG19_Weights.DEFAULT` to get the most up-to-date weights.\n"
     ]
    }
   ],
   "source": [
    "# load the pre-trained vgg19 model, using 'image-net' set of weights\n",
    "# it was trained on vgg19 dataset\n",
    "model = models.vgg19(pretrained=True)\n",
    "\n",
    "# Set the model to evaluation mode (no training)\n",
    "model.eval()\n",
    "\n",
    "# Load imagenet dataset (50 images aléatoires ainsi que leurs labels)\n",
    "X,y = shap.datasets.imagenet50()\n",
    "\n",
    "# Normaliser les valeures des pixels \n",
    "X /= 255\n",
    "\n",
    "# Selections des images pour l'explication (index 1 et 2)\n",
    "to_explain = X[[1,2]]"
   ]
  },
  {
   "cell_type": "code",
   "execution_count": 5,
   "id": "83417bea-497f-468a-95e1-b5c704a53ba1",
   "metadata": {},
   "outputs": [],
   "source": [
    "# Récupérer les noms des classes d'ImageNet\n",
    "url = \"https://s3.amazonaws.com/deep-learning-models/image-models/imagenet_class_index.json\"\n",
    "fname = shap.datasets.cache(url)  # Mise en cache du fichier si absent\n",
    "with open(fname) as f:\n",
    "    class_names = json.load(f)  # charger les noms de classes à partir du fichier JSON "
   ]
  },
  {
   "cell_type": "code",
   "execution_count": null,
   "id": "027d93f8-c698-400f-b022-1ba26b8f0529",
   "metadata": {},
   "outputs": [],
   "source": [
    "# Création d'un GradientExplainer, avec la 7eme couche du model pour expliquer la prédiction\n",
    "e = shap.GradientExplainer((model, model.features[7]), normalize(X))\n",
    "\n",
    "# Calcul des valeurs de SHAP et des indices pour l'explication des images choisies\n",
    "shap_values, indexes = e.shap_values(\n",
    "    normalize(to_explain), ranked_outputs=2, nsamples=20\n",
    ")\n",
    "\n",
    "# Noms des classes correspondant aux indices obtenus pour les images choisies\n",
    "index_names = np.vectorize(lambda x: class_names[str(x)][1])(indexes)\n",
    "\n",
    "# Organisation des valeurs de shap pour le graph \n",
    "shap_values = [np.swapaxes(np.swapaxes(s, 2, 3), 1, -1) for s in shap_values]\n",
    "\n",
    "# Afficher l'explication (Valeurs SHAP) avec les images et leur label de classe \n",
    "shap.image_plot(shap_values, to_explain, index_names)"
   ]
  },
  {
   "cell_type": "code",
   "execution_count": null,
   "id": "1ee8f6f2-fd88-4860-8f5e-d9540d9dbb4d",
   "metadata": {},
   "outputs": [],
   "source": []
  }
 ],
 "metadata": {
  "kernelspec": {
   "display_name": "Python 3 (ipykernel)",
   "language": "python",
   "name": "python3"
  },
  "language_info": {
   "codemirror_mode": {
    "name": "ipython",
    "version": 3
   },
   "file_extension": ".py",
   "mimetype": "text/x-python",
   "name": "python",
   "nbconvert_exporter": "python",
   "pygments_lexer": "ipython3",
   "version": "3.10.12"
  }
 },
 "nbformat": 4,
 "nbformat_minor": 5
}
